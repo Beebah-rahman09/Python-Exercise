{
 "cells": [
  {
   "cell_type": "markdown",
   "metadata": {},
   "source": [
    "Module 5 Exercise Level 2"
   ]
  },
  {
   "cell_type": "markdown",
   "metadata": {},
   "source": [
    "1.The following is a list of 10 students ages:\n",
    "ages = [19, 22, 19, 24, 20, 25, 26, 24, 25, 24]"
   ]
  },
  {
   "cell_type": "markdown",
   "metadata": {},
   "source": [
    "i.Sort the list and find the min and max age"
   ]
  },
  {
   "cell_type": "code",
   "execution_count": 18,
   "metadata": {},
   "outputs": [
    {
     "name": "stdout",
     "output_type": "stream",
     "text": [
      "Sorted Ages: [19, 19, 20, 22, 24, 24, 24, 25, 25, 26]\n",
      "Min Age: 19\n",
      "Max Age: 26\n"
     ]
    }
   ],
   "source": [
    "ages = [19, 22, 19, 24, 20, 25, 26, 24, 25, 24]\n",
    "ages.sort()\n",
    "min_age = ages[0]\n",
    "max_age = ages[-1]\n",
    "print(\"Sorted Ages:\", ages)\n",
    "print(\"Min Age:\", min_age)\n",
    "print(\"Max Age:\", max_age)"
   ]
  },
  {
   "cell_type": "markdown",
   "metadata": {},
   "source": [
    "ii.Add the min age and the max age again to the list"
   ]
  },
  {
   "cell_type": "code",
   "execution_count": 19,
   "metadata": {},
   "outputs": [
    {
     "name": "stdout",
     "output_type": "stream",
     "text": [
      "Ages with Min and Max Added: [19, 19, 20, 22, 24, 24, 24, 25, 25, 26, 19, 26]\n"
     ]
    }
   ],
   "source": [
    "ages.extend([min_age, max_age])\n",
    "print(\"Ages with Min and Max Added:\", ages)"
   ]
  },
  {
   "cell_type": "markdown",
   "metadata": {},
   "source": [
    "iii.Find the median age (one middle item or two middle items divided by two)"
   ]
  },
  {
   "cell_type": "code",
   "execution_count": 7,
   "metadata": {},
   "outputs": [],
   "source": [
    "age = [19, 22, 19, 24, 20, 25, 26, 24, 25, 24]\n",
    "age.sort()\n",
    "n = len(ages)\n",
    "if n % 2 == 0:\n",
    "    median_age = (ages[n//2 - 1] + ages[n//2]) / 2\n",
    "else:\n",
    "    median_age = ages[n//2]\n",
    "    print(\"Medain age:\", median_age)"
   ]
  },
  {
   "cell_type": "markdown",
   "metadata": {},
   "source": [
    "iv.Find the average age (sum of all items divided by their number )"
   ]
  },
  {
   "cell_type": "code",
   "execution_count": 8,
   "metadata": {},
   "outputs": [
    {
     "name": "stdout",
     "output_type": "stream",
     "text": [
      "Average age: 22.8\n"
     ]
    }
   ],
   "source": [
    "average_age = sum(ages) / len(ages)\n",
    "print(\"Average age:\", average_age)"
   ]
  },
  {
   "cell_type": "markdown",
   "metadata": {},
   "source": [
    "v.Find the range of the ages (max minus min)"
   ]
  },
  {
   "cell_type": "code",
   "execution_count": 12,
   "metadata": {},
   "outputs": [
    {
     "name": "stdout",
     "output_type": "stream",
     "text": [
      "Age range: 7\n"
     ]
    }
   ],
   "source": [
    "age = [19, 22, 19, 24, 20, 25, 26, 24, 25, 24]\n",
    "min_age= min(age)\n",
    "max_age= max(age)\n",
    "age_range= max_age - min_age\n",
    "print(\"Age range:\", age_range)"
   ]
  },
  {
   "cell_type": "markdown",
   "metadata": {},
   "source": [
    "vi.Compare the value of (min - average) and (max - average), use abs() method"
   ]
  },
  {
   "cell_type": "code",
   "execution_count": 14,
   "metadata": {},
   "outputs": [
    {
     "name": "stdout",
     "output_type": "stream",
     "text": [
      "Difference between min and average: 3.8000000000000007\n",
      "Difference between max and average: 3.1999999999999993\n"
     ]
    }
   ],
   "source": [
    "min_diff= abs(min_age - average_age)\n",
    "max_diff= abs(max_age - average_age)\n",
    "print(\"Difference between min and average:\", min_diff)\n",
    "print(\"Difference between max and average:\", max_diff)"
   ]
  },
  {
   "cell_type": "markdown",
   "metadata": {},
   "source": [
    "vii.Find the middle country(ies) in the countries list"
   ]
  },
  {
   "cell_type": "code",
   "execution_count": 15,
   "metadata": {},
   "outputs": [
    {
     "name": "stdout",
     "output_type": "stream",
     "text": [
      "Middle country(ies): ['Norway']\n"
     ]
    }
   ],
   "source": [
    "countries = [\"China\", \"Russia\", \"USA\", \"Finland\", \"Sweden\", \"Norway\", \"Denmark\"]\n",
    "countries.sort()\n",
    "n = len(countries)\n",
    "if n % 2 == 0:\n",
    "    middle_countries = countries[n//2 - 1:n//2 + 1]\n",
    "else:\n",
    "    middle_countries = [countries[n//2]]\n",
    "    print(\"Middle country(ies):\", middle_countries)"
   ]
  },
  {
   "cell_type": "markdown",
   "metadata": {},
   "source": [
    "viii.Divide the countries list into two equal lists if it is even if not one more country for the first half."
   ]
  },
  {
   "cell_type": "code",
   "execution_count": 16,
   "metadata": {},
   "outputs": [
    {
     "name": "stdout",
     "output_type": "stream",
     "text": [
      "First half: ['China', 'Denmark', 'Finland', 'Norway']\n",
      "Second half: ['Russia', 'Sweden', 'USA']\n"
     ]
    }
   ],
   "source": [
    "if len(countries) % 2 == 0:\n",
    "    first_half = countries[:len(countries)//2]\n",
    "    second_half = countries[len(countries)//2:]\n",
    "else:\n",
    "    first_half = countries[:len(countries)//2 + 1]\n",
    "    second_half = countries[len(countries)//2 + 1:]\n",
    "    print(\"First half:\", first_half)\n",
    "    print(\"Second half:\", second_half) \n",
    " \n"
   ]
  },
  {
   "cell_type": "markdown",
   "metadata": {},
   "source": [
    "ix.['China', 'Russia', 'USA', 'Finland', 'Sweden', 'Norway', 'Denmark']. Unpack the first three countries and the rest as scandic countries."
   ]
  },
  {
   "cell_type": "code",
   "execution_count": 17,
   "metadata": {},
   "outputs": [
    {
     "name": "stdout",
     "output_type": "stream",
     "text": [
      "First country: China\n",
      "Second country: Denmark\n",
      "Third country: Finland\n",
      "Scandic countries: ['Norway', 'Russia', 'Sweden', 'USA']\n"
     ]
    }
   ],
   "source": [
    "first, second, third, *scandic_countries = countries\n",
    "print(\"First country:\", first)\n",
    "print(\"Second country:\", second)\n",
    "print(\"Third country:\", third)\n",
    "print(\"Scandic countries:\",scandic_countries)"
   ]
  }
 ],
 "metadata": {
  "kernelspec": {
   "display_name": "Python 3",
   "language": "python",
   "name": "python3"
  },
  "language_info": {
   "codemirror_mode": {
    "name": "ipython",
    "version": 3
   },
   "file_extension": ".py",
   "mimetype": "text/x-python",
   "name": "python",
   "nbconvert_exporter": "python",
   "pygments_lexer": "ipython3",
   "version": "3.13.1"
  }
 },
 "nbformat": 4,
 "nbformat_minor": 2
}
