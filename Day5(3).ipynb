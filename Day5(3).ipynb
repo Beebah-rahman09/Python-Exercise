{
 "cells": [
  {
   "cell_type": "markdown",
   "metadata": {},
   "source": [
    "1.Create an empty tuple"
   ]
  },
  {
   "cell_type": "code",
   "execution_count": 2,
   "metadata": {},
   "outputs": [],
   "source": [
    "empty_tuple =()"
   ]
  },
  {
   "cell_type": "markdown",
   "metadata": {},
   "source": [
    "2.Create a tuple containing names of your sisters and your brothers (imaginary siblings are fine)"
   ]
  },
  {
   "cell_type": "code",
   "execution_count": 3,
   "metadata": {},
   "outputs": [],
   "source": [
    "sisters = (\"Hafsat\", \"Kulthum\", \"Hauwa\", \"Aisha\")\n",
    "Brothers = (\"Muhammad\", \"Abdulrahman\", \"Abubakar\")"
   ]
  },
  {
   "cell_type": "markdown",
   "metadata": {},
   "source": [
    "3.Join brothers and sisters tuples and assign it to siblings"
   ]
  },
  {
   "cell_type": "code",
   "execution_count": 4,
   "metadata": {},
   "outputs": [],
   "source": [
    "siblings = sisters + Brothers"
   ]
  },
  {
   "cell_type": "markdown",
   "metadata": {},
   "source": [
    "4.How many siblings do you have?"
   ]
  },
  {
   "cell_type": "code",
   "execution_count": 5,
   "metadata": {},
   "outputs": [
    {
     "name": "stdout",
     "output_type": "stream",
     "text": [
      "I have 7 siblings. \n"
     ]
    }
   ],
   "source": [
    "num_siblings = len(siblings)\n",
    "print(\"I have\", num_siblings, \"siblings. \")"
   ]
  },
  {
   "cell_type": "markdown",
   "metadata": {},
   "source": [
    "5.Modify the siblings tuple and add the name of your father and mother and assign it to family_members"
   ]
  },
  {
   "cell_type": "code",
   "execution_count": 6,
   "metadata": {},
   "outputs": [
    {
     "name": "stdout",
     "output_type": "stream",
     "text": [
      "Family members: ('Hafsat', 'Kulthum', 'Hauwa', 'Aisha', 'Muhammad', 'Abdulrahman', 'Abubakar', 'Abdulrahman', 'Labina')\n"
     ]
    }
   ],
   "source": [
    "siblings = (\"Hafsat\", \"Kulthum\", \"Hauwa\", \"Aisha\",\"Muhammad\", \"Abdulrahman\", \"Abubakar\")\n",
    "parents = (\"Abdulrahman\", \"Labina\")\n",
    "family_members = siblings + parents\n",
    "print(\"Family members:\", family_members)  "
   ]
  },
  {
   "cell_type": "markdown",
   "metadata": {},
   "source": [
    "6.Unpack siblings and parents from family_members"
   ]
  },
  {
   "cell_type": "code",
   "execution_count": 7,
   "metadata": {},
   "outputs": [
    {
     "name": "stdout",
     "output_type": "stream",
     "text": [
      "Siblings: ['Hafsat', 'Kulthum', 'Hauwa', 'Aisha', 'Muhammad', 'Abdulrahman', 'Abubakar']\n",
      "Father: Abdulrahman\n",
      "Mother: Labina\n"
     ]
    }
   ],
   "source": [
    "*siblings, father, mother = family_members\n",
    "print(\"Siblings:\", siblings)\n",
    "print(\"Father:\", father)\n",
    "print(\"Mother:\", mother)"
   ]
  },
  {
   "cell_type": "markdown",
   "metadata": {},
   "source": [
    "7.Create fruits, vegetables and animal products tuples. Join the three tuples and assign it to a variable called food_stuff_tp."
   ]
  },
  {
   "cell_type": "code",
   "execution_count": 8,
   "metadata": {},
   "outputs": [],
   "source": [
    "fruits = (\"Applle\", \"Banana\", \"Orange\")\n",
    "vegetables = (\"Carrots\", \"Spinach\", \"Cucumber\")\n",
    "animal_products = (\"Milk\", \"Egg\", \"Cheese\")\n",
    "food_stuff_tp = fruits + vegetables + animal_products"
   ]
  },
  {
   "cell_type": "markdown",
   "metadata": {},
   "source": [
    "8.Change the about food_stuff_tp tuple to a food_stuff_lt list"
   ]
  },
  {
   "cell_type": "code",
   "execution_count": 10,
   "metadata": {},
   "outputs": [],
   "source": [
    "food_stuff_tp = list(food_stuff_tp)"
   ]
  },
  {
   "cell_type": "markdown",
   "metadata": {},
   "source": [
    "9.Slice out the middle item or items from the food_stuff_tp tuple or food_stuff_lt list."
   ]
  },
  {
   "cell_type": "code",
   "execution_count": 13,
   "metadata": {},
   "outputs": [
    {
     "name": "stdout",
     "output_type": "stream",
     "text": [
      "Middle items: ['Spinach']\n"
     ]
    }
   ],
   "source": [
    "middle_index = len(food_stuff_tp) // 2\n",
    "if len(food_stuff_tp) % 2 == 0:\n",
    "    middle_items = food_stuff_tp[middle_index - 1:middle_index + 1]\n",
    "else:\n",
    "    middle_items =[food_stuff_tp[middle_index]]\n",
    "    print(\"Middle items:\", middle_items)"
   ]
  },
  {
   "cell_type": "markdown",
   "metadata": {},
   "source": [
    "10.Slice out the first three items and the last three items from food_staff_lt list"
   ]
  },
  {
   "cell_type": "code",
   "execution_count": 14,
   "metadata": {},
   "outputs": [
    {
     "name": "stdout",
     "output_type": "stream",
     "text": [
      "First three: ['Applle', 'Banana', 'Orange']\n",
      "Last three: ['Milk', 'Egg', 'Cheese']\n"
     ]
    }
   ],
   "source": [
    "first_three = food_stuff_tp[:3]\n",
    "last_three = food_stuff_tp[-3:]\n",
    "print(\"First three:\", first_three)\n",
    "print(\"Last three:\", last_three)"
   ]
  },
  {
   "cell_type": "markdown",
   "metadata": {},
   "source": [
    "11.Delete the food_staff_tp tuple completely"
   ]
  },
  {
   "cell_type": "code",
   "execution_count": 15,
   "metadata": {},
   "outputs": [],
   "source": [
    "del food_stuff_tp"
   ]
  },
  {
   "cell_type": "markdown",
   "metadata": {},
   "source": [
    "12.Check if an item exists in tuple:\n",
    "Check if 'Estonia' is a nordic country"
   ]
  },
  {
   "cell_type": "code",
   "execution_count": 16,
   "metadata": {},
   "outputs": [
    {
     "name": "stdout",
     "output_type": "stream",
     "text": [
      "False\n"
     ]
    }
   ],
   "source": [
    "nordic_countries = ('Denmark', 'Filand', 'Iceland', 'Norway', 'Sweden')\n",
    "print('Estonia' in nordic_countries)"
   ]
  },
  {
   "cell_type": "markdown",
   "metadata": {},
   "source": [
    "13.Check if 'Iceland' is a nordic country"
   ]
  },
  {
   "cell_type": "code",
   "execution_count": 17,
   "metadata": {},
   "outputs": [
    {
     "name": "stdout",
     "output_type": "stream",
     "text": [
      "True\n"
     ]
    }
   ],
   "source": [
    "print('Iceland' in nordic_countries)"
   ]
  },
  {
   "cell_type": "markdown",
   "metadata": {},
   "source": [
    "14.Find the length of the set it_companies"
   ]
  },
  {
   "cell_type": "code",
   "execution_count": 18,
   "metadata": {},
   "outputs": [
    {
     "name": "stdout",
     "output_type": "stream",
     "text": [
      "The number of IT companies is: 7\n"
     ]
    }
   ],
   "source": [
    "it_companies = {'Facebook', 'Goggle', 'Microsoft', 'Apple', 'IBM', 'Oracle', 'Amazon'}\n",
    "length_of_it_companies = len(it_companies)\n",
    "print(\"The number of IT companies is:\", length_of_it_companies)"
   ]
  },
  {
   "cell_type": "markdown",
   "metadata": {},
   "source": [
    "15.Add 'Twitter' to it_companies"
   ]
  },
  {
   "cell_type": "code",
   "execution_count": 19,
   "metadata": {},
   "outputs": [
    {
     "name": "stdout",
     "output_type": "stream",
     "text": [
      "Updated IT companies: {'Oracle', 'Twitter', 'IBM', 'Amazon', 'Apple', 'Microsoft', 'Facebook', 'Goggle'}\n"
     ]
    }
   ],
   "source": [
    "it_companies = {'Facebook', 'Goggle', 'Microsoft', 'Apple', 'IBM', 'Oracle', 'Amazon'}\n",
    "it_companies.add('Twitter')\n",
    "print(\"Updated IT companies:\", it_companies)"
   ]
  },
  {
   "cell_type": "markdown",
   "metadata": {},
   "source": [
    "16.Insert multiple IT companies at once to the set it_companies"
   ]
  },
  {
   "cell_type": "code",
   "execution_count": 20,
   "metadata": {},
   "outputs": [
    {
     "name": "stdout",
     "output_type": "stream",
     "text": [
      "Updated IT companies: {'Twitter', 'IBM', 'Amazon', 'Adobe', 'Microsoft', 'Facebook', 'Apple', 'Oracle', 'Netflix', 'Goggle'}\n"
     ]
    }
   ],
   "source": [
    "it_companies = {'Facebook', 'Goggle', 'Microsoft', 'Apple', 'IBM', 'Oracle', 'Amazon'}\n",
    "new_companies = {'Twitter', 'Netflix', 'Adobe'}\n",
    "it_companies.update(new_companies)\n",
    "print(\"Updated IT companies:\", it_companies)"
   ]
  },
  {
   "cell_type": "markdown",
   "metadata": {},
   "source": [
    "17.Remove one of the companies from the set it_companies"
   ]
  },
  {
   "cell_type": "code",
   "execution_count": 21,
   "metadata": {},
   "outputs": [
    {
     "name": "stdout",
     "output_type": "stream",
     "text": [
      "Updated IT companies: {'Oracle', 'IBM', 'Amazon', 'Apple', 'Microsoft', 'Facebook'}\n"
     ]
    }
   ],
   "source": [
    "it_companies = {'Facebook', 'Goggle', 'Microsoft', 'Apple', 'IBM', 'Oracle', 'Amazon'}\n",
    "it_companies.remove('Goggle')\n",
    "print(\"Updated IT companies:\", it_companies)\n"
   ]
  },
  {
   "cell_type": "markdown",
   "metadata": {},
   "source": [
    "18.What is the difference between remove and discard"
   ]
  },
  {
   "cell_type": "code",
   "execution_count": null,
   "metadata": {},
   "outputs": [],
   "source": [
    "the difference between remove and discard is that remove() raises a KeyError if the item does not exist,\n",
    "while discard() does not."
   ]
  },
  {
   "cell_type": "markdown",
   "metadata": {},
   "source": [
    "19.Join A and B\n"
   ]
  },
  {
   "cell_type": "code",
   "execution_count": 25,
   "metadata": {},
   "outputs": [
    {
     "name": "stdout",
     "output_type": "stream",
     "text": [
      "{1, 2, 3, 4, 5}\n"
     ]
    }
   ],
   "source": [
    "A = {1,2,3}\n",
    "B = {3,4,5}\n",
    "result = A.union (B)\n",
    "print(result)"
   ]
  },
  {
   "cell_type": "markdown",
   "metadata": {},
   "source": [
    "20.Find A intersection B"
   ]
  },
  {
   "cell_type": "code",
   "execution_count": 26,
   "metadata": {},
   "outputs": [
    {
     "name": "stdout",
     "output_type": "stream",
     "text": [
      "{3}\n",
      "{3}\n"
     ]
    }
   ],
   "source": [
    "A = {1,2,3}\n",
    "B = {3,4,5}\n",
    "intersection_result = A & B \n",
    "intersection_result_method = A.intersection(B)\n",
    "print(intersection_result)\n",
    "print(intersection_result_method)"
   ]
  },
  {
   "cell_type": "markdown",
   "metadata": {},
   "source": [
    "21.Is A subset of B"
   ]
  },
  {
   "cell_type": "code",
   "execution_count": 3,
   "metadata": {},
   "outputs": [
    {
     "name": "stdout",
     "output_type": "stream",
     "text": [
      "A is not a subset of B\n"
     ]
    }
   ],
   "source": [
    "A = {1,2,3}\n",
    "B = {3,4,5}\n",
    "if A.issubset(B):\n",
    "  print(\"A is a subset of B\")\n",
    "else:\n",
    "  print(\"A is not a subset of B\")\n",
    "\n"
   ]
  },
  {
   "cell_type": "markdown",
   "metadata": {},
   "source": [
    "22.Are A and B disjoint sets"
   ]
  },
  {
   "cell_type": "code",
   "execution_count": 4,
   "metadata": {},
   "outputs": [
    {
     "name": "stdout",
     "output_type": "stream",
     "text": [
      "A and B are not disjoint sets\n"
     ]
    }
   ],
   "source": [
    "A = {1,2,3}\n",
    "B = {3,4,5}\n",
    "if A.isdisjoint(B):\n",
    "  print(\"A and B are disjoint sets\")\n",
    "else:\n",
    "  print(\"A and B are not disjoint sets\")\n"
   ]
  },
  {
   "cell_type": "markdown",
   "metadata": {},
   "source": [
    "23.Join A with B and B with A"
   ]
  },
  {
   "cell_type": "code",
   "execution_count": 5,
   "metadata": {},
   "outputs": [
    {
     "name": "stdout",
     "output_type": "stream",
     "text": [
      "A joined with B: {1, 2, 3, 4, 5}\n",
      "B joined with A: {1, 2, 3, 4, 5}\n"
     ]
    }
   ],
   "source": [
    "A = {1,2,3}\n",
    "B = {3,4,5}\n",
    "A_union_B = A.union(B)\n",
    "print(\"A joined with B:\", A_union_B)\n",
    "B_union_A = B.union(A)\n",
    "print(\"B joined with A:\", B_union_A)"
   ]
  },
  {
   "cell_type": "markdown",
   "metadata": {},
   "source": [
    "24.What is the symmetric difference between A and B"
   ]
  },
  {
   "cell_type": "code",
   "execution_count": 6,
   "metadata": {},
   "outputs": [
    {
     "name": "stdout",
     "output_type": "stream",
     "text": [
      "Symmetric difference between A and B: {1, 2, 4, 5}\n"
     ]
    }
   ],
   "source": [
    "A = {1,2,3}\n",
    "B = {3,4,5}\n",
    "symmetric_diff = A.symmetric_difference(B)\n",
    "print(\"Symmetric difference between A and B:\", symmetric_diff )"
   ]
  },
  {
   "cell_type": "markdown",
   "metadata": {},
   "source": [
    "25.Delete the sets completely"
   ]
  },
  {
   "cell_type": "code",
   "execution_count": 7,
   "metadata": {},
   "outputs": [],
   "source": [
    "A = {1,2,3}\n",
    "B = {3,4,5}\n",
    "del A\n",
    "del B"
   ]
  },
  {
   "cell_type": "markdown",
   "metadata": {},
   "source": [
    "26.Convert the ages to a set and compare the length of the list and the set, which one is bigger?"
   ]
  },
  {
   "cell_type": "code",
   "execution_count": 8,
   "metadata": {},
   "outputs": [
    {
     "name": "stdout",
     "output_type": "stream",
     "text": [
      "Length of list: 4\n",
      "Length of set: 4\n",
      "The list and the set have the same length.\n"
     ]
    }
   ],
   "source": [
    "ages_list = {25,30,25,40,30,35,40}\n",
    "ages_set = set(ages_list)\n",
    "list_length = len(ages_list)\n",
    "set_length = len(ages_set)\n",
    "print(\"Length of list:\", list_length)\n",
    "print(\"Length of set:\", set_length)\n",
    "if list_length > set_length:\n",
    "    print(\"The list is bigger because it contains duplicates.\")\n",
    "elif list_length < set_length:\n",
    "    print(\"The set is bigger, but this case should not happen.\")\n",
    "else:\n",
    "    print(\"The list and the set have the same length.\")\n",
    "\n",
    "\n"
   ]
  },
  {
   "cell_type": "markdown",
   "metadata": {},
   "source": [
    "27.Explain the difference between the following data types: string, list, tuple and set"
   ]
  },
  {
   "cell_type": "code",
   "execution_count": null,
   "metadata": {},
   "outputs": [],
   "source": [
    "String: A string is a sequence of characters enclosed in either single quotes(')\n",
    "        or double quotes(\").\n",
    "List: A list is an ordered collection of items that can be of different data types.publish_display_data.publish_display_data\n",
    "Tuple: A tuple is an ordered collection of items, similar to a list.\n",
    "Set: A set is an unordered collection of unique items."
   ]
  },
  {
   "cell_type": "markdown",
   "metadata": {},
   "source": [
    "28.I am a teacher and I love to inspire and teach people. How many unique words have been used in the sentence? Use the split methods and set to get the unique words."
   ]
  },
  {
   "cell_type": "code",
   "execution_count": 9,
   "metadata": {},
   "outputs": [
    {
     "name": "stdout",
     "output_type": "stream",
     "text": [
      "Unique words: {'to', 'teacher', 'teach', 'love', 'a', 'inspire', 'I', 'people', 'am', 'and'}\n",
      "Number of unique words: 10\n"
     ]
    }
   ],
   "source": [
    "sentence = \"I am a teacher and I love to inspire and teach people\"\n",
    "words = sentence.split()\n",
    "unique_words = set(words)\n",
    "unique_word_count = len(unique_words)\n",
    "print(\"Unique words:\", unique_words)\n",
    "print(\"Number of unique words:\", unique_word_count)"
   ]
  }
 ],
 "metadata": {
  "kernelspec": {
   "display_name": "Python 3",
   "language": "python",
   "name": "python3"
  },
  "language_info": {
   "codemirror_mode": {
    "name": "ipython",
    "version": 3
   },
   "file_extension": ".py",
   "mimetype": "text/x-python",
   "name": "python",
   "nbconvert_exporter": "python",
   "pygments_lexer": "ipython3",
   "version": "3.13.1"
  }
 },
 "nbformat": 4,
 "nbformat_minor": 2
}
