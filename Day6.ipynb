{
 "cells": [
  {
   "cell_type": "markdown",
   "metadata": {},
   "source": [
    "1.Create an empty dictionary called dog"
   ]
  },
  {
   "cell_type": "code",
   "execution_count": 1,
   "metadata": {},
   "outputs": [],
   "source": [
    "dog = {}"
   ]
  },
  {
   "cell_type": "markdown",
   "metadata": {},
   "source": [
    "2.Add name, color, breed, legs, age to the dog dictionary"
   ]
  },
  {
   "cell_type": "code",
   "execution_count": 2,
   "metadata": {},
   "outputs": [
    {
     "name": "stdout",
     "output_type": "stream",
     "text": [
      "Dog dictionary: {'name': 'Joker', 'color': 'Brown', 'Breed': 'Golden Retriever', 'Legs': 4, 'Age': 3}\n"
     ]
    }
   ],
   "source": [
    "dog[\"name\"] = \"Joker\"\n",
    "dog[\"color\"] = \"Brown\"\n",
    "dog[\"Breed\"] = \"Golden Retriever\"\n",
    "dog[\"Legs\"] = 4\n",
    "dog[\"Age\"] = 3\n",
    "print(\"Dog dictionary:\", dog)"
   ]
  },
  {
   "cell_type": "markdown",
   "metadata": {},
   "source": [
    "3.Create a student dictionary and add first_name, last_name, gender, age, marital status, skills, country, city and address as keys for the dictionary"
   ]
  },
  {
   "cell_type": "code",
   "execution_count": 10,
   "metadata": {},
   "outputs": [
    {
     "name": "stdout",
     "output_type": "stream",
     "text": [
      "\n",
      "Student dictionary: {'first_name': 'Nazeef', 'last_name': 'Muhammad', 'gender': 'Male', 'age': '23', 'marital_status': 'Married', 'skills': ['Python', 'Data Analysis'], 'country': 'Nigeria', 'city': 'Bauchi', 'address': 'Azare town'}\n"
     ]
    }
   ],
   "source": [
    "student = {\n",
    "    \"first_name\": \"Nazeef\",\n",
    "    \"last_name\": \"Muhammad\",\n",
    "    \"gender\":\"Male\",\n",
    "    \"age\": \"23\",\n",
    "    \"marital_status\": \"Married\",\n",
    "    \"skills\": [\"Python\", \"Data Analysis\"],\n",
    "    \"country\": \"Nigeria\",\n",
    "    \"city\": \"Bauchi\",\n",
    "    \"address\": \"Azare town\",\n",
    "                                                   }\n",
    "print(\"\\nStudent dictionary:\", student)"
   ]
  },
  {
   "cell_type": "markdown",
   "metadata": {},
   "source": [
    "4.Get the length of the student dictionary"
   ]
  },
  {
   "cell_type": "code",
   "execution_count": 11,
   "metadata": {},
   "outputs": [
    {
     "name": "stdout",
     "output_type": "stream",
     "text": [
      "\n",
      "Length of student dictionary: 9\n"
     ]
    }
   ],
   "source": [
    "student_length = len(student)\n",
    "print(\"\\nLength of student dictionary:\", student_length)"
   ]
  },
  {
   "cell_type": "markdown",
   "metadata": {},
   "source": [
    "5.Get the value of skills and check the data type, it should be a list"
   ]
  },
  {
   "cell_type": "code",
   "execution_count": 12,
   "metadata": {},
   "outputs": [
    {
     "name": "stdout",
     "output_type": "stream",
     "text": [
      "\n",
      "Skills: ['Python', 'Data Analysis']\n",
      "Type of skills: <class 'list'>\n"
     ]
    }
   ],
   "source": [
    "skills = student[\"skills\"]\n",
    "print(\"\\nSkills:\", skills)\n",
    "print(\"Type of skills:\", type(skills))"
   ]
  },
  {
   "cell_type": "markdown",
   "metadata": {},
   "source": [
    "6.Modify the skills values by adding one or two skills"
   ]
  },
  {
   "cell_type": "code",
   "execution_count": 13,
   "metadata": {},
   "outputs": [
    {
     "name": "stdout",
     "output_type": "stream",
     "text": [
      "\n",
      "Updated skills: ['Python', 'Data Analysis', 'Machine Learning', 'SQL']\n"
     ]
    }
   ],
   "source": [
    "student[\"skills\"].extend([\"Machine Learning\", \"SQL\"])\n",
    "print(\"\\nUpdated skills:\", student[\"skills\"])"
   ]
  },
  {
   "cell_type": "markdown",
   "metadata": {},
   "source": [
    "7.Get the dictionary keys as a list"
   ]
  },
  {
   "cell_type": "code",
   "execution_count": 14,
   "metadata": {},
   "outputs": [
    {
     "name": "stdout",
     "output_type": "stream",
     "text": [
      "\n",
      "Keys of the student dictionary: ['first_name', 'last_name', 'gender', 'age', 'marital_status', 'skills', 'country', 'city', 'address']\n"
     ]
    }
   ],
   "source": [
    "student_keys = list(student.keys())\n",
    "print(\"\\nKeys of the student dictionary:\", student_keys)"
   ]
  },
  {
   "cell_type": "markdown",
   "metadata": {},
   "source": [
    "8.Get the dictionary values as a list"
   ]
  },
  {
   "cell_type": "code",
   "execution_count": 15,
   "metadata": {},
   "outputs": [
    {
     "name": "stdout",
     "output_type": "stream",
     "text": [
      "\n",
      "Values of the student dictionary: ['Nazeef', 'Muhammad', 'Male', '23', 'Married', ['Python', 'Data Analysis', 'Machine Learning', 'SQL'], 'Nigeria', 'Bauchi', 'Azare town']\n"
     ]
    }
   ],
   "source": [
    "student_values = list(student.values())\n",
    "print(\"\\nValues of the student dictionary:\", student_values)"
   ]
  },
  {
   "cell_type": "markdown",
   "metadata": {},
   "source": [
    "9.Change the dictionary to a list of tuples using items() method"
   ]
  },
  {
   "cell_type": "code",
   "execution_count": 16,
   "metadata": {},
   "outputs": [
    {
     "name": "stdout",
     "output_type": "stream",
     "text": [
      "\n",
      "Student dictionary as a list of tupels: [('first_name', 'Nazeef'), ('last_name', 'Muhammad'), ('gender', 'Male'), ('age', '23'), ('marital_status', 'Married'), ('skills', ['Python', 'Data Analysis', 'Machine Learning', 'SQL']), ('country', 'Nigeria'), ('city', 'Bauchi'), ('address', 'Azare town')]\n"
     ]
    }
   ],
   "source": [
    "student_items = list(student.items())\n",
    "print(\"\\nStudent dictionary as a list of tupels:\", student_items)"
   ]
  },
  {
   "cell_type": "markdown",
   "metadata": {},
   "source": [
    "10.Delete one of the items in the dictionary"
   ]
  },
  {
   "cell_type": "code",
   "execution_count": 17,
   "metadata": {},
   "outputs": [
    {
     "name": "stdout",
     "output_type": "stream",
     "text": [
      "\n",
      "Student dictionary after deleting 'marital_status': {'first_name': 'Nazeef', 'last_name': 'Muhammad', 'gender': 'Male', 'age': '23', 'skills': ['Python', 'Data Analysis', 'Machine Learning', 'SQL'], 'country': 'Nigeria', 'city': 'Bauchi', 'address': 'Azare town'}\n"
     ]
    }
   ],
   "source": [
    "del student[\"marital_status\"]\n",
    "print(\"\\nStudent dictionary after deleting 'marital_status':\", student)"
   ]
  },
  {
   "cell_type": "markdown",
   "metadata": {},
   "source": [
    "11.Delete one of the dictionaries"
   ]
  },
  {
   "cell_type": "code",
   "execution_count": 18,
   "metadata": {},
   "outputs": [
    {
     "name": "stdout",
     "output_type": "stream",
     "text": [
      "\n",
      "'Dog' dictionary has been deleted.\n"
     ]
    }
   ],
   "source": [
    "del dog\n",
    "print(\"\\n'Dog' dictionary has been deleted.\" )"
   ]
  }
 ],
 "metadata": {
  "kernelspec": {
   "display_name": "Python 3",
   "language": "python",
   "name": "python3"
  },
  "language_info": {
   "codemirror_mode": {
    "name": "ipython",
    "version": 3
   },
   "file_extension": ".py",
   "mimetype": "text/x-python",
   "name": "python",
   "nbconvert_exporter": "python",
   "pygments_lexer": "ipython3",
   "version": "3.13.1"
  }
 },
 "nbformat": 4,
 "nbformat_minor": 2
}
