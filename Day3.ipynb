{
 "cells": [
  {
   "cell_type": "markdown",
   "metadata": {},
   "source": [
    "Module 3 Exercise"
   ]
  },
  {
   "cell_type": "markdown",
   "metadata": {},
   "source": [
    "1.Declare your age as integer variable"
   ]
  },
  {
   "cell_type": "code",
   "execution_count": 1,
   "metadata": {},
   "outputs": [],
   "source": [
    "age= 22"
   ]
  },
  {
   "cell_type": "markdown",
   "metadata": {},
   "source": [
    "2.Declare your height as a float variable"
   ]
  },
  {
   "cell_type": "code",
   "execution_count": 2,
   "metadata": {},
   "outputs": [],
   "source": [
    "height= 5.7"
   ]
  },
  {
   "cell_type": "markdown",
   "metadata": {},
   "source": [
    "3.Declare a variable that store a complex number"
   ]
  },
  {
   "cell_type": "code",
   "execution_count": 3,
   "metadata": {},
   "outputs": [],
   "source": [
    "complex_numbers= 3 + 4j"
   ]
  },
  {
   "cell_type": "markdown",
   "metadata": {},
   "source": [
    "4.Write a script that prompts the user to enter base and height of the triangle and calculate an area of this triangle (area = 0.5 x b x h)."
   ]
  },
  {
   "cell_type": "code",
   "execution_count": 5,
   "metadata": {},
   "outputs": [
    {
     "name": "stdout",
     "output_type": "stream",
     "text": [
      "The area of the triangle is 6.21\n"
     ]
    }
   ],
   "source": [
    "base= float(input(\"Enter the base of the tringle: \"))\n",
    "height= float(input(\"Enter the height of the triangle: \"))\n",
    "area= 0.5 * base * height\n",
    "print(f\"The area of the triangle is {area}\")"
   ]
  },
  {
   "cell_type": "markdown",
   "metadata": {},
   "source": [
    "5.Write a script that prompts the user to enter side a, side b, and side c of the triangle. Calculate the perimeter of the triangle (perimeter = a + b + c).\n"
   ]
  },
  {
   "cell_type": "code",
   "execution_count": 6,
   "metadata": {},
   "outputs": [
    {
     "name": "stdout",
     "output_type": "stream",
     "text": [
      "The perimeter of the triangle is 12.0\n"
     ]
    }
   ],
   "source": [
    "slide_a= float(input(\"Enter the length of the side a: \"))\n",
    "slide_b= float(input(\"Enter the length of the side b: \"))\n",
    "slide_c= float(input(\"Enter the length of the side c: \"))\n",
    "perimeter= slide_a + slide_b + slide_c\n",
    "print(f\"The perimeter of the triangle is {perimeter}\")\n"
   ]
  },
  {
   "cell_type": "markdown",
   "metadata": {},
   "source": [
    "6.Get length and width of a rectangle using prompt. Calculate its area (area = length x width) and perimeter (perimeter = 2 x (length + width))"
   ]
  },
  {
   "cell_type": "code",
   "execution_count": 7,
   "metadata": {},
   "outputs": [
    {
     "name": "stdout",
     "output_type": "stream",
     "text": [
      "The area of the triangle is 10.0\n",
      "The perimeter of the triangle is 13.0\n"
     ]
    }
   ],
   "source": [
    "length= float(input(\"Enter the length of the triangle: \"))\n",
    "width= float(input(\"Enter the width of th triangle: \"))\n",
    "area= length * width\n",
    "perimeter= 2 * (length + width)\n",
    "print(f\"The area of the triangle is {area}\")\n",
    "print(F\"The perimeter of the triangle is {perimeter}\")"
   ]
  },
  {
   "cell_type": "markdown",
   "metadata": {},
   "source": [
    "7.Get radius of a circle using prompt. Calculate the area (area = pi x r x r) and circumference (c = 2 x pi x r) where pi = 3.14."
   ]
  },
  {
   "cell_type": "code",
   "execution_count": 8,
   "metadata": {},
   "outputs": [
    {
     "name": "stdout",
     "output_type": "stream",
     "text": [
      "The area of the circle is 14.379944000000002\n",
      "The circumference of the circle is 13.439200000000001\n"
     ]
    }
   ],
   "source": [
    "radius= float(input(\"Enter the radius of the circle: \"))\n",
    "pi= 3.14\n",
    "area= pi * radius * radius\n",
    "circumfrence= 2 * pi* radius\n",
    "print(f\"The area of the circle is {area}\")\n",
    "print(f\"The circumference of the circle is {circumfrence}\")"
   ]
  },
  {
   "cell_type": "markdown",
   "metadata": {},
   "source": [
    "8.Calculate the slope, x-intercept and y-intercept of y = 2x -2"
   ]
  },
  {
   "cell_type": "code",
   "execution_count": 1,
   "metadata": {},
   "outputs": [
    {
     "name": "stdout",
     "output_type": "stream",
     "text": [
      "Slope (m): 2\n",
      "Y-intercept:  (0, -2)\n",
      "X-intercept: (1.0, 0)\n"
     ]
    }
   ],
   "source": [
    "m= 2\n",
    "b= -2\n",
    "y_intercept = b\n",
    "x_intercept = -b / m\n",
    "print(f\"Slope (m): {m}\")\n",
    "print(f\"Y-intercept:  (0, {y_intercept})\")\n",
    "print(f\"X-intercept: ({x_intercept}, 0)\")"
   ]
  },
  {
   "cell_type": "markdown",
   "metadata": {},
   "source": [
    "9.Slope is (m = y2-y1/x2-x1). Find the slope and Euclidean distance between point (2, 2) and point (6,10)"
   ]
  },
  {
   "cell_type": "code",
   "execution_count": 2,
   "metadata": {},
   "outputs": [
    {
     "name": "stdout",
     "output_type": "stream",
     "text": [
      "Slope: 2.0\n",
      "Euclidean distance: 8.94427190999916\n"
     ]
    }
   ],
   "source": [
    "import math\n",
    "x1, y1 = 2, 2\n",
    "x2, y2 = 6, 10\n",
    "slope = (y2 - y1) / (x2 - x1)\n",
    "distance = math.sqrt((x2 - x1) **2 + (y2 - y1)**2)\n",
    "print(f\"Slope: {slope}\")\n",
    "print(f\"Euclidean distance: {distance}\")"
   ]
  },
  {
   "cell_type": "markdown",
   "metadata": {},
   "source": [
    "10.Compare the slopes in tasks 8 and 9"
   ]
  },
  {
   "cell_type": "code",
   "execution_count": 1,
   "metadata": {},
   "outputs": [
    {
     "name": "stdout",
     "output_type": "stream",
     "text": [
      "The slopes are he same: 2\n"
     ]
    }
   ],
   "source": [
    "slope_task_8= 2\n",
    "slope_task_9= 2\n",
    "if slope_task_8 == slope_task_9:\n",
    "    print(f\"The slopes are he same: {slope_task_8}\")\n",
    "else:\n",
    "    print(f\"The slopes are diffrent. Task 8 slope: {slope_task_8}, Task 9 slope: {slope_task_9}\")"
   ]
  },
  {
   "cell_type": "markdown",
   "metadata": {},
   "source": [
    "11.Calculate the value of y (y = x^2 + 6x + 9). Try to use different x values and figure out at what x value y is going to be 0."
   ]
  },
  {
   "cell_type": "code",
   "execution_count": 3,
   "metadata": {},
   "outputs": [
    {
     "name": "stdout",
     "output_type": "stream",
     "text": [
      "x = -5,y= 4\n",
      "The x value(s) where y = 0:[-3]\n",
      "x = -4,y= 1\n",
      "The x value(s) where y = 0:[-3]\n",
      "x = -3,y= 0\n",
      "The x value(s) where y = 0:[-3]\n",
      "x = -2,y= 1\n",
      "The x value(s) where y = 0:[-3]\n",
      "x = 0,y= 9\n",
      "The x value(s) where y = 0:[-3]\n",
      "x = 2,y= 25\n",
      "The x value(s) where y = 0:[-3]\n"
     ]
    }
   ],
   "source": [
    "def calculate_y(x):\n",
    "    return x**2 + 6*x + 9\n",
    "x_values= [-5, -4,-3,-2,0,2]\n",
    "for x in x_values:\n",
    "    y= calculate_y(x)\n",
    "    print(f\"x = {x},y= {y}\")\n",
    "    from sympy import symbols, Eq, solve\n",
    "    x= symbols('x')\n",
    "    equation = Eq(x**2 + 6*x + 9,0)\n",
    "    x_solutions = solve(equation)\n",
    "    print(f\"The x value(s) where y = 0:{x_solutions}\")"
   ]
  },
  {
   "cell_type": "markdown",
   "metadata": {},
   "source": [
    "12.Find the length of 'python' and 'dragon' and make a falsy comparison statement.\n"
   ]
  },
  {
   "cell_type": "code",
   "execution_count": 4,
   "metadata": {},
   "outputs": [
    {
     "name": "stdout",
     "output_type": "stream",
     "text": [
      "Length of 'python': 6\n",
      "Length of 'dragon': 6\n",
      "Is the length of 'python' greater than the length of 'dragon'? False\n"
     ]
    }
   ],
   "source": [
    "word1= \"python\"\n",
    "word2= \"dragon\"\n",
    "length_word1= len(word1)\n",
    "length_word2= len(word2)\n",
    "comparison = length_word1 > length_word2\n",
    "print(f\"Length of '{word1}': {length_word2}\")\n",
    "print(f\"Length of '{word2}': {length_word2}\")\n",
    "print(f\"Is the length of '{word1}' greater than the length of '{word2}'? {comparison}\")"
   ]
  },
  {
   "cell_type": "markdown",
   "metadata": {},
   "source": [
    "13.Use and operator to check if 'on' is found in both 'python' and 'dragon'"
   ]
  },
  {
   "cell_type": "code",
   "execution_count": 5,
   "metadata": {},
   "outputs": [
    {
     "name": "stdout",
     "output_type": "stream",
     "text": [
      "Is 'on' found in both 'python' and 'dragon'? True\n"
     ]
    }
   ],
   "source": [
    "word1= \"python\"\n",
    "word2= \"dragon\"\n",
    "result = \"on\" in word1 and \"on\" in word2\n",
    "print(f\"Is 'on' found in both '{word1}' and '{word2}'? {result}\")"
   ]
  },
  {
   "cell_type": "markdown",
   "metadata": {},
   "source": [
    "14.I hope this course is not full of jargon. Use in operator to check if jargon is in the sentence.\n"
   ]
  },
  {
   "cell_type": "code",
   "execution_count": 6,
   "metadata": {},
   "outputs": [
    {
     "name": "stdout",
     "output_type": "stream",
     "text": [
      "Is 'jargon' in the sentence? True\n"
     ]
    }
   ],
   "source": [
    "sentence= \"I hope this course is not full of jargon.\"\n",
    "result= \"jargon\" in sentence\n",
    "print(f\"Is 'jargon' in the sentence? {result}\")"
   ]
  },
  {
   "cell_type": "markdown",
   "metadata": {},
   "source": [
    "15.There is no 'on' in both dragon and python"
   ]
  },
  {
   "cell_type": "code",
   "execution_count": 7,
   "metadata": {},
   "outputs": [
    {
     "name": "stdout",
     "output_type": "stream",
     "text": [
      "Is 'on' found in both 'python' and 'dragon'? True\n"
     ]
    }
   ],
   "source": [
    "word1= \"python\"\n",
    "word2= \"dragon\"\n",
    "result = \"on\" in word1 and \"on\" in word2\n",
    "print(f\"Is 'on' found in both '{word1}' and '{word2}'? {result}\")"
   ]
  },
  {
   "cell_type": "markdown",
   "metadata": {},
   "source": [
    "16.Find the length of the text python and convert the value to float and convert it to string"
   ]
  },
  {
   "cell_type": "code",
   "execution_count": 8,
   "metadata": {},
   "outputs": [
    {
     "name": "stdout",
     "output_type": "stream",
     "text": [
      "Length of the word 'python': 6\n",
      "Length as float: 6.0\n",
      "Length as string: 6.0\n"
     ]
    }
   ],
   "source": [
    "word = \"python\"\n",
    "length = len(word)\n",
    "length_float= float(length)\n",
    "length_str= str(length_float)\n",
    "print(f\"Length of the word 'python': {length}\")\n",
    "print(f\"Length as float: {length_float}\")\n",
    "print(f\"Length as string: {length_str}\")"
   ]
  },
  {
   "cell_type": "markdown",
   "metadata": {},
   "source": [
    "17.Even numbers are divisible by 2 and the remainder is zero. How do you check if a number is even or not using python?"
   ]
  },
  {
   "cell_type": "code",
   "execution_count": 9,
   "metadata": {},
   "outputs": [
    {
     "name": "stdout",
     "output_type": "stream",
     "text": [
      "4 is even.\n"
     ]
    }
   ],
   "source": [
    "number= 4\n",
    "if number % 2 == 0:\n",
    "    print(f\"{number} is even.\")\n",
    "else:\n",
    "    print(f\"{number} is not even.\")"
   ]
  },
  {
   "cell_type": "markdown",
   "metadata": {},
   "source": [
    "18.Check if the floor division of 7 by 3 is equal to the int converted value of 2.7."
   ]
  },
  {
   "cell_type": "code",
   "execution_count": 11,
   "metadata": {},
   "outputs": [
    {
     "name": "stdout",
     "output_type": "stream",
     "text": [
      "The floor division of 7 by 3 is not equal to the integer converted value of 2.7\n"
     ]
    }
   ],
   "source": [
    "a= 7\n",
    "b= 3\n",
    "float_value= 2.7\n",
    "floor_division_result = a // b\n",
    "int_value = int(float_value)\n",
    "if floor_division_result == 'int_value':\n",
    "    print(f\"The floor division of {a} by {b} is equal to the integer converted value of {float_value}\")\n",
    "else:\n",
    "    print(f\"The floor division of {a} by {b} is not equal to the integer converted value of {float_value}\")\n"
   ]
  },
  {
   "cell_type": "markdown",
   "metadata": {},
   "source": [
    "19.Check if type of '10' is equal to type of 10"
   ]
  },
  {
   "cell_type": "code",
   "execution_count": 14,
   "metadata": {},
   "outputs": [
    {
     "name": "stdout",
     "output_type": "stream",
     "text": [
      "The type of '10' is equal to the type of 10.\n"
     ]
    }
   ],
   "source": [
    "string_value= '10'\n",
    "int_value= 10\n",
    "if type(string_value) == type('int_value'):\n",
    "    print(\"The type of '10' is equal to the type of 10.\")\n",
    "else:\n",
    "    print(\"The type of '10' is not equal to the type of 10.\")"
   ]
  },
  {
   "cell_type": "markdown",
   "metadata": {},
   "source": [
    "20.Check if int('9.8') is equal to 10"
   ]
  },
  {
   "cell_type": "code",
   "execution_count": 15,
   "metadata": {},
   "outputs": [
    {
     "name": "stdout",
     "output_type": "stream",
     "text": [
      "int('9.8') is not equal to 10.\n"
     ]
    }
   ],
   "source": [
    "converted_value = int(float('9.8'))\n",
    "if converted_value == 10:\n",
    "    print(\"int('9.8') is equal to 10.\")\n",
    "else:\n",
    "    print(\"int('9.8') is not equal to 10.\")"
   ]
  },
  {
   "cell_type": "markdown",
   "metadata": {},
   "source": [
    "21.Writ a script that prompts the user to enter hours and rate per hour. Calculate pay of the person"
   ]
  },
  {
   "cell_type": "code",
   "execution_count": 1,
   "metadata": {},
   "outputs": [
    {
     "name": "stdout",
     "output_type": "stream",
     "text": [
      "Your pay is: 600.0\n"
     ]
    }
   ],
   "source": [
    "hours = float(input(\"Enter hours worked: \"))\n",
    "rate_per_hour = float(input(\"Enter rate per hour: \"))\n",
    "pay = hours * rate_per_hour\n",
    "print(f\"Your pay is: {pay}\")"
   ]
  },
  {
   "cell_type": "markdown",
   "metadata": {},
   "source": [
    "22.Write a script that prompts the user to enter number of years. Calculate the number of seconds a person can live. Assume a person can live hundred year"
   ]
  },
  {
   "cell_type": "code",
   "execution_count": 2,
   "metadata": {},
   "outputs": [
    {
     "name": "stdout",
     "output_type": "stream",
     "text": [
      "The total number of seconds in 2 years is: 63072000\n"
     ]
    }
   ],
   "source": [
    "years = int(input(\"Enter the number of years: \"))\n",
    "seconds_in_a_year = 365 * 24 * 60 * 60\n",
    "total_seconds = years * seconds_in_a_year\n",
    "print(f\"The total number of seconds in {years} years is: {total_seconds}\")"
   ]
  },
  {
   "cell_type": "markdown",
   "metadata": {},
   "source": [
    "23.Write a Python script that displays the following table\n",
    "1 1 1 1 1\n",
    "2 1 2 4 8\n",
    "3 1 3 9 27\n",
    "4 1 4 16 64\n",
    "5 1 5 25 125"
   ]
  },
  {
   "cell_type": "code",
   "execution_count": 3,
   "metadata": {},
   "outputs": [
    {
     "name": "stdout",
     "output_type": "stream",
     "text": [
      "1 \n",
      "1 \n",
      "1 \n",
      "1 \n",
      "1 \n",
      "2 \n",
      "4 \n",
      "8 \n",
      "1 \n",
      "3 \n",
      "9 \n",
      "27 \n",
      "1 \n",
      "4 \n",
      "16 \n",
      "64 \n",
      "1 \n",
      "5 \n",
      "25 \n",
      "125 \n"
     ]
    }
   ],
   "source": [
    "for i in range(1, 6):\n",
    "    for j in range(4):\n",
    "        print(i ** j, end=\" \")\n",
    "        print()"
   ]
  },
  {
   "cell_type": "markdown",
   "metadata": {},
   "source": [
    "24.1 1 1 1 1\n",
    "2 1 2 4 8\n",
    "3 1 3 9 27\n",
    "4 1 4 16 64\n",
    "5 1 5 25 125"
   ]
  },
  {
   "cell_type": "code",
   "execution_count": 6,
   "metadata": {},
   "outputs": [
    {
     "name": "stdout",
     "output_type": "stream",
     "text": [
      "1 \n",
      "1 \n",
      "1 \n",
      "1 \n",
      "1 \n",
      "2 \n",
      "4 \n",
      "8 \n",
      "1 \n",
      "3 \n",
      "9 \n",
      "27 \n",
      "1 \n",
      "4 \n",
      "16 \n",
      "64 \n",
      "1 \n",
      "5 \n",
      "25 \n",
      "125 \n"
     ]
    }
   ],
   "source": [
    "for row in range(1, 6):\n",
    "    for power in range(4):\n",
    "        print(row ** power, end=\" \")\n",
    "        print()"
   ]
  }
 ],
 "metadata": {
  "kernelspec": {
   "display_name": "Python 3",
   "language": "python",
   "name": "python3"
  },
  "language_info": {
   "codemirror_mode": {
    "name": "ipython",
    "version": 3
   },
   "file_extension": ".py",
   "mimetype": "text/x-python",
   "name": "python",
   "nbconvert_exporter": "python",
   "pygments_lexer": "ipython3",
   "version": "3.13.1"
  }
 },
 "nbformat": 4,
 "nbformat_minor": 2
}
