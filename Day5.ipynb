{
 "cells": [
  {
   "cell_type": "markdown",
   "metadata": {},
   "source": [
    "Module 5 Exercise: Level 1"
   ]
  },
  {
   "cell_type": "markdown",
   "metadata": {},
   "source": [
    "1.Declare an empty list"
   ]
  },
  {
   "cell_type": "code",
   "execution_count": 1,
   "metadata": {},
   "outputs": [],
   "source": [
    "emopty_list= []"
   ]
  },
  {
   "cell_type": "markdown",
   "metadata": {},
   "source": [
    "2.Declare a list with more than 5 items"
   ]
  },
  {
   "cell_type": "code",
   "execution_count": 2,
   "metadata": {},
   "outputs": [],
   "source": [
    "items = [1, 2, 3, 4, 5]"
   ]
  },
  {
   "cell_type": "markdown",
   "metadata": {},
   "source": [
    "3.Find the length of your list"
   ]
  },
  {
   "cell_type": "code",
   "execution_count": 3,
   "metadata": {},
   "outputs": [
    {
     "name": "stdout",
     "output_type": "stream",
     "text": [
      "Length of the list: 5\n"
     ]
    }
   ],
   "source": [
    "length = len(items)\n",
    "print(\"Length of the list:\", length)"
   ]
  },
  {
   "cell_type": "markdown",
   "metadata": {},
   "source": [
    "4.Get the first item, the middle item and the last item of the list"
   ]
  },
  {
   "cell_type": "code",
   "execution_count": 4,
   "metadata": {},
   "outputs": [
    {
     "name": "stdout",
     "output_type": "stream",
     "text": [
      "First item: 1\n",
      "Middle item: 3\n",
      "Last item: 5\n"
     ]
    }
   ],
   "source": [
    "first_item = items[0]\n",
    "middle_item = items[len(items) // 2]\n",
    "last_item = items[-1]\n",
    "print(\"First item:\", first_item)\n",
    "print(\"Middle item:\", middle_item)\n",
    "print(\"Last item:\", last_item)"
   ]
  },
  {
   "cell_type": "markdown",
   "metadata": {},
   "source": [
    "5.Declare a list called mixed_data_types, put your(name, age, height, marital status, address)"
   ]
  },
  {
   "cell_type": "code",
   "execution_count": 6,
   "metadata": {},
   "outputs": [
    {
     "name": "stdout",
     "output_type": "stream",
     "text": [
      "Mixed data types: ['Beenah', 22, 5.6, 'Married', 'Azare']\n"
     ]
    }
   ],
   "source": [
    "mixed_data_types = [\"Beenah\", 22, 5.6, \"Married\", \"Azare\"]\n",
    "print(\"Mixed data types:\", mixed_data_types)"
   ]
  },
  {
   "cell_type": "markdown",
   "metadata": {},
   "source": [
    "6.Declare a list variable named it_companies and assign initial values Facebook, Google, Microsoft, Apple, IBM, Oracle and Amazon."
   ]
  },
  {
   "cell_type": "code",
   "execution_count": 7,
   "metadata": {},
   "outputs": [],
   "source": [
    "it_companies = [\"Facebook\",\"Google\", \"Microsoft\", \"Apple\", \"IBM\", \"Oracle\" and \"Amazon\"]"
   ]
  },
  {
   "cell_type": "markdown",
   "metadata": {},
   "source": [
    "7.Print the list using print()"
   ]
  },
  {
   "cell_type": "code",
   "execution_count": 8,
   "metadata": {},
   "outputs": [
    {
     "name": "stdout",
     "output_type": "stream",
     "text": [
      "IT Companies: ['Facebook', 'Google', 'Microsoft', 'Apple', 'IBM', 'Amazon']\n"
     ]
    }
   ],
   "source": [
    "print(\"IT Companies:\", it_companies)"
   ]
  },
  {
   "cell_type": "markdown",
   "metadata": {},
   "source": [
    "8.Print the number of companies in the list"
   ]
  },
  {
   "cell_type": "code",
   "execution_count": 9,
   "metadata": {},
   "outputs": [
    {
     "name": "stdout",
     "output_type": "stream",
     "text": [
      "Number of IT Companies: 6\n"
     ]
    }
   ],
   "source": [
    "print(\"Number of IT Companies:\", len(it_companies))"
   ]
  },
  {
   "cell_type": "markdown",
   "metadata": {},
   "source": [
    "9.Print the first, middle and last company"
   ]
  },
  {
   "cell_type": "code",
   "execution_count": 10,
   "metadata": {},
   "outputs": [
    {
     "name": "stdout",
     "output_type": "stream",
     "text": [
      "First Company: Facebook\n",
      "Middle Company: Apple\n",
      "Last Company: Amazon\n"
     ]
    }
   ],
   "source": [
    "print(\"First Company:\", it_companies[0])\n",
    "print(\"Middle Company:\", it_companies[len(it_companies) // 2])\n",
    "print(\"Last Company:\", it_companies[-1])"
   ]
  },
  {
   "cell_type": "markdown",
   "metadata": {},
   "source": [
    "10.Print the list after modifying one of the companies"
   ]
  },
  {
   "cell_type": "code",
   "execution_count": 12,
   "metadata": {},
   "outputs": [
    {
     "name": "stdout",
     "output_type": "stream",
     "text": [
      "Modified IT Companies: ['Meta', 'Google', 'Microsoft', 'Apple', 'IBM', 'Amazon']\n"
     ]
    }
   ],
   "source": [
    "it_companies[0] = \"Meta\"\n",
    "print(\"Modified IT Companies:\", it_companies)"
   ]
  },
  {
   "cell_type": "markdown",
   "metadata": {},
   "source": [
    "11.Add an IT company to it_companies"
   ]
  },
  {
   "cell_type": "code",
   "execution_count": 13,
   "metadata": {},
   "outputs": [
    {
     "name": "stdout",
     "output_type": "stream",
     "text": [
      "After adding a companies: ['Meta', 'Google', 'Microsoft', 'Apple', 'IBM', 'Amazon', 'Twitter']\n"
     ]
    }
   ],
   "source": [
    "it_companies.append(\"Twitter\")\n",
    "print(\"After adding a companies:\", it_companies)"
   ]
  },
  {
   "cell_type": "markdown",
   "metadata": {},
   "source": [
    "12.Insert an IT company in the middle of the companies list"
   ]
  },
  {
   "cell_type": "code",
   "execution_count": 14,
   "metadata": {},
   "outputs": [
    {
     "name": "stdout",
     "output_type": "stream",
     "text": [
      "After inserting in the middle: ['Meta', 'Google', 'Microsoft', 'Tesla', 'Apple', 'IBM', 'Amazon', 'Twitter']\n"
     ]
    }
   ],
   "source": [
    "middle_index = len(it_companies) // 2\n",
    "it_companies.insert(middle_index, \"Tesla\")\n",
    "print(\"After inserting in the middle:\", it_companies)"
   ]
  },
  {
   "cell_type": "markdown",
   "metadata": {},
   "source": [
    "13.Change one of the it_companies names to uppercase (IBM excluded!)"
   ]
  },
  {
   "cell_type": "code",
   "execution_count": 15,
   "metadata": {},
   "outputs": [
    {
     "name": "stdout",
     "output_type": "stream",
     "text": [
      "After changing one company to uppercase : ['FACEBOOK', 'Google', 'Microsoft', 'Apple', 'IBM', 'OracleAmazon']\n"
     ]
    }
   ],
   "source": [
    "it_companies = [\"Facebook\",\"Google\", \"Microsoft\", \"Apple\", \"IBM\", \"Oracle\" \"Amazon\"]\n",
    "it_companies[0] = it_companies[0].upper()\n",
    "print(\"After changing one company to uppercase :\", it_companies)"
   ]
  },
  {
   "cell_type": "markdown",
   "metadata": {},
   "source": [
    "14.Join the it_companies with a string '#;  '"
   ]
  },
  {
   "cell_type": "code",
   "execution_count": 16,
   "metadata": {},
   "outputs": [
    {
     "name": "stdout",
     "output_type": "stream",
     "text": [
      "Joined Companies: FACEBOOK#;  Google#;  Microsoft#;  Apple#;  IBM#;  OracleAmazon\n"
     ]
    }
   ],
   "source": [
    "joined_companies = \"#;  \".join(it_companies)\n",
    "print(\"Joined Companies:\", joined_companies)"
   ]
  },
  {
   "cell_type": "markdown",
   "metadata": {},
   "source": [
    "15.Check if a certain company exists in the it_companies list."
   ]
  },
  {
   "cell_type": "code",
   "execution_count": 17,
   "metadata": {},
   "outputs": [
    {
     "name": "stdout",
     "output_type": "stream",
     "text": [
      "Does Google exist in the list? True\n"
     ]
    }
   ],
   "source": [
    "company_to_check = \"Google\"\n",
    "print(f\"Does {company_to_check} exist in the list?\", company_to_check in it_companies)"
   ]
  },
  {
   "cell_type": "markdown",
   "metadata": {},
   "source": [
    "16.Sort the list using sort() method"
   ]
  },
  {
   "cell_type": "code",
   "execution_count": 18,
   "metadata": {},
   "outputs": [
    {
     "name": "stdout",
     "output_type": "stream",
     "text": [
      "Sorted IT companies: ['Apple', 'FACEBOOK', 'Google', 'IBM', 'Microsoft', 'OracleAmazon']\n"
     ]
    }
   ],
   "source": [
    "it_companies.sort()\n",
    "print(\"Sorted IT companies:\", it_companies)"
   ]
  },
  {
   "cell_type": "markdown",
   "metadata": {},
   "source": [
    "17.Reverse the list in descending order using reverse() method"
   ]
  },
  {
   "cell_type": "code",
   "execution_count": 19,
   "metadata": {},
   "outputs": [
    {
     "name": "stdout",
     "output_type": "stream",
     "text": [
      "Reversed IT companies: ['OracleAmazon', 'Microsoft', 'IBM', 'Google', 'FACEBOOK', 'Apple']\n"
     ]
    }
   ],
   "source": [
    "it_companies.reverse()\n",
    "print(\"Reversed IT companies:\", it_companies)"
   ]
  },
  {
   "cell_type": "markdown",
   "metadata": {},
   "source": [
    "18.Slice out the first 3 companies from the list"
   ]
  },
  {
   "cell_type": "code",
   "execution_count": 20,
   "metadata": {},
   "outputs": [
    {
     "name": "stdout",
     "output_type": "stream",
     "text": [
      "First 3 companies: ['OracleAmazon', 'Microsoft', 'IBM']\n"
     ]
    }
   ],
   "source": [
    "first_three = it_companies[:3]\n",
    "print(\"First 3 companies:\", first_three)"
   ]
  },
  {
   "cell_type": "markdown",
   "metadata": {},
   "source": [
    "19.Slice out the last 3 companies from the list"
   ]
  },
  {
   "cell_type": "code",
   "execution_count": 25,
   "metadata": {},
   "outputs": [
    {
     "name": "stdout",
     "output_type": "stream",
     "text": [
      "Last 3 companies: ['Google', 'FACEBOOK', 'Apple']\n"
     ]
    }
   ],
   "source": [
    "last_three = it_companies[-3:]\n",
    "print(\"Last 3 companies:\", last_three)"
   ]
  },
  {
   "cell_type": "markdown",
   "metadata": {},
   "source": [
    "20.Slice out the middle IT company or companies from the list"
   ]
  },
  {
   "cell_type": "code",
   "execution_count": 26,
   "metadata": {},
   "outputs": [
    {
     "name": "stdout",
     "output_type": "stream",
     "text": [
      "Middle company/companies: ['IBM', 'Google']\n"
     ]
    }
   ],
   "source": [
    "middle_index = len(it_companies) // 2\n",
    "if len(it_companies) % 2 == 0:\n",
    "    middle_companies = it_companies[middle_index-1:middle_index+1]\n",
    "else:\n",
    "    middle_companies = [it_companies[middle_index]]\n",
    "print(\"Middle company/companies:\", middle_companies)"
   ]
  },
  {
   "cell_type": "markdown",
   "metadata": {},
   "source": [
    "21.Remove the first IT company from the list"
   ]
  },
  {
   "cell_type": "code",
   "execution_count": 27,
   "metadata": {},
   "outputs": [
    {
     "name": "stdout",
     "output_type": "stream",
     "text": [
      "After removing the first company: ['Microsoft', 'IBM', 'Google', 'FACEBOOK', 'Apple']\n"
     ]
    }
   ],
   "source": [
    "it_companies.pop(0)\n",
    "print(\"After removing the first company:\", it_companies)"
   ]
  },
  {
   "cell_type": "markdown",
   "metadata": {},
   "source": [
    "22.Remove the middle IT company or companies from the list"
   ]
  },
  {
   "cell_type": "code",
   "execution_count": 28,
   "metadata": {},
   "outputs": [
    {
     "name": "stdout",
     "output_type": "stream",
     "text": [
      "After removing the middle company/companies: ['Microsoft', 'IBM', 'FACEBOOK', 'Apple']\n"
     ]
    }
   ],
   "source": [
    "middle_index = len(it_companies) // 2\n",
    "if len(it_companies) % 2 == 0:\n",
    "    del it_companies[middle_index-1:middle_index+1]\n",
    "else:\n",
    "    del it_companies[middle_index]\n",
    "    print(\"After removing the middle company/companies:\", it_companies)"
   ]
  },
  {
   "cell_type": "markdown",
   "metadata": {},
   "source": [
    "23.Remove the last IT company from the list"
   ]
  },
  {
   "cell_type": "code",
   "execution_count": 29,
   "metadata": {},
   "outputs": [
    {
     "name": "stdout",
     "output_type": "stream",
     "text": [
      "After removing the last company: ['Microsoft', 'IBM', 'FACEBOOK']\n"
     ]
    }
   ],
   "source": [
    "it_companies.pop(-1)\n",
    "print(\"After removing the last company:\", it_companies)"
   ]
  },
  {
   "cell_type": "markdown",
   "metadata": {},
   "source": [
    "24.Remove all IT companies from the list"
   ]
  },
  {
   "cell_type": "code",
   "execution_count": 30,
   "metadata": {},
   "outputs": [
    {
     "name": "stdout",
     "output_type": "stream",
     "text": [
      "After removing all companies: ['Microsoft', 'IBM']\n"
     ]
    }
   ],
   "source": [
    "it_companies.pop(-1)\n",
    "print(\"After removing all companies:\", it_companies)"
   ]
  },
  {
   "cell_type": "markdown",
   "metadata": {},
   "source": [
    "25.Destroy the IT companies list"
   ]
  },
  {
   "cell_type": "code",
   "execution_count": 32,
   "metadata": {},
   "outputs": [
    {
     "name": "stdout",
     "output_type": "stream",
     "text": [
      "IT companies list destroyed.\n"
     ]
    }
   ],
   "source": [
    "del it_companies\n",
    "print(\"IT companies list destroyed.\")"
   ]
  },
  {
   "cell_type": "markdown",
   "metadata": {},
   "source": [
    "26.Join the following lists:\n",
    "\n",
    "front_end = ['HTML', 'CSS', 'JS', 'React', 'Redux']\n",
    "back_end = ['Node','Express', 'MongoDB']"
   ]
  },
  {
   "cell_type": "code",
   "execution_count": 33,
   "metadata": {},
   "outputs": [
    {
     "name": "stdout",
     "output_type": "stream",
     "text": [
      "Joined list (full_stack): ['HTML', 'CSS', 'JS', 'React', 'Redux', 'Node', 'Express', 'MongoDB']\n"
     ]
    }
   ],
   "source": [
    "front_end = ['HTML', 'CSS', 'JS', 'React', 'Redux']\n",
    "back_end = ['Node', 'Express', 'MongoDB']\n",
    "full_stack = front_end + back_end\n",
    "print(\"Joined list (full_stack):\", full_stack)"
   ]
  },
  {
   "cell_type": "markdown",
   "metadata": {},
   "source": [
    "27.After joining the lists in question 26. Copy the joined list and assign it to a variable full_stack, then insert Python and SQL after Redux."
   ]
  },
  {
   "cell_type": "code",
   "execution_count": 34,
   "metadata": {},
   "outputs": [
    {
     "name": "stdout",
     "output_type": "stream",
     "text": [
      "Üpdated full_stack list: ['HTML', 'CSS', 'JS', 'React', 'Redux', 'Python', 'SQL', 'Node', 'Express', 'MongoDB']\n"
     ]
    }
   ],
   "source": [
    "full_stack.insert(full_stack.index('Redux') + 1, 'Python')\n",
    "full_stack.insert(full_stack.index('Python') + 1, 'SQL')\n",
    "print(\"Üpdated full_stack list:\", full_stack)\n"
   ]
  }
 ],
 "metadata": {
  "kernelspec": {
   "display_name": "Python 3",
   "language": "python",
   "name": "python3"
  },
  "language_info": {
   "codemirror_mode": {
    "name": "ipython",
    "version": 3
   },
   "file_extension": ".py",
   "mimetype": "text/x-python",
   "name": "python",
   "nbconvert_exporter": "python",
   "pygments_lexer": "ipython3",
   "version": "3.13.1"
  }
 },
 "nbformat": 4,
 "nbformat_minor": 2
}
